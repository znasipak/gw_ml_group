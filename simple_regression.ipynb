{
 "cells": [
  {
   "cell_type": "markdown",
   "metadata": {},
   "source": [
    "# Simple regression model on time series gravitational wave data\n",
    "\n",
    "## Load machine learning libraries\n",
    "To run this notebook you will need to download the library `sktime` (https://www.sktime.org/en/latest/), which downloads the `sklearn` library from \n",
    "`sci-kit learn`\n",
    "(https://scikit-learn.org/stable/index.html) and the `MiniRocket` library (https://github.com/angus924/minirocket).\n",
    "\n",
    "If you use `conda`, then this can easily be installed via `conda install -c conda-forge sktime`. If you want this library to exist in its own conda environment then you will want to run the following code:\n",
    "```bash\n",
    "# creates environment 'ml_sktime'\n",
    "<< conda create --name ml_sktime\n",
    "# activate your environment\n",
    "<< conda activate ml_sktime\n",
    "# install matplotlib library in this environment\n",
    "<< conda install matplotlib \n",
    "# install sktime library in this environment\n",
    "<< conda install -c conda-forge sktime\n",
    "# install library that allows you to run this environment in a notebook\n",
    "<< conda install -c anaconda ipykernel\n",
    "# install Jupyter notebook kernel that is associated with this environment\n",
    "<< python -m ipykernel install --user --name=ml_sktime\n",
    "```\n",
    "Note that you can replace the name 'ml_sktime' with any name you want for this environment. I believe this can also be installed via `pip`"
   ]
  },
  {
   "cell_type": "code",
   "execution_count": null,
   "metadata": {},
   "outputs": [],
   "source": [
    "from sklearn.model_selection import train_test_split\n",
    "from sklearn.metrics import accuracy_score, f1_score, mean_squared_error, r2_score\n",
    "from sklearn.linear_model import RidgeCV, RidgeClassifierCV\n",
    "from sktime.transformations.panel.rocket import MiniRocket, MiniRocketMultivariate"
   ]
  },
  {
   "cell_type": "markdown",
   "metadata": {},
   "source": [
    "## Load gravitational wave time series data\n",
    "\n",
    "We store the gravitational time series in `gw_series` and the black hole spin associated with these time series in `a_series`"
   ]
  },
  {
   "cell_type": "code",
   "execution_count": 421,
   "metadata": {},
   "outputs": [],
   "source": [
    "timeSteps = 100000\n",
    "a_data = pd.DataFrame(columns = ['a'])\n",
    "gw_series = pd.DataFrame(columns = ['hI'])\n",
    "gw_series_full = pd.DataFrame(columns = np.arange(timeSteps))\n",
    "for f in flist:\n",
    "    if f[-4:] == '.npz':\n",
    "        data = np.load(gw_dir + f)\n",
    "        params = data['params'].astype(float)\n",
    "        hI = data['hI'].astype(float)\n",
    "        #s = pd.Series(str(int(params[0]>0.7)), index = ['a'])\n",
    "        s = pd.Series(str(params[0]), index = ['a'])\n",
    "        s2 = pd.Series([hI[-timeSteps:]], index = ['hI'])\n",
    "        s3 = pd.Series(hI[-timeSteps:], index = np.arange(timeSteps))\n",
    "        df = s.to_frame().T\n",
    "        df2 = s2.to_frame().T\n",
    "        df3 = s3.to_frame().T\n",
    "        a_data = a_data.append(df, ignore_index=True)\n",
    "        gw_series = gw_series.append(df2, ignore_index=True)\n",
    "        gw_series_full = gw_series_full.append(df3, ignore_index=True)\n",
    "a_series = a_data['a']"
   ]
  },
  {
   "cell_type": "markdown",
   "metadata": {},
   "source": [
    "## Train model on gravitational wave time series data\n",
    "\n",
    "### Split data into training data and test data"
   ]
  },
  {
   "cell_type": "code",
   "execution_count": 468,
   "metadata": {},
   "outputs": [],
   "source": [
    "X_train, X_test, y_train, y_test = train_test_split(gw_series, a_series)\n",
    "X_train2, X_test2, y_train2, y_test2 = train_test_split(gw_series_full, a_series)"
   ]
  },
  {
   "cell_type": "markdown",
   "metadata": {},
   "source": [
    "### Initialize and train transformation model\n",
    "\n",
    "We make use of the `MiniRocket` model (see https://github.com/angus924/minirocket), which trains the time series on random convolutional neural networks to transform the time series data onto a new set of random features/basis variables. The number of (basis) features is set by `num_features`. We then train the `MiniRocket` model on our training data to produce the neural net basis."
   ]
  },
  {
   "cell_type": "code",
   "execution_count": 469,
   "metadata": {},
   "outputs": [],
   "source": [
    "num_features = 10000;\n",
    "minirocket = MiniRocket(num_features=num_features)  # by default, MiniRocket uses ~10,000 kernels\n",
    "minirocket.fit(X_train);"
   ]
  },
  {
   "cell_type": "markdown",
   "metadata": {},
   "source": [
    "Then we need to transform our training and test sets to this new basis"
   ]
  },
  {
   "cell_type": "code",
   "execution_count": 470,
   "metadata": {},
   "outputs": [],
   "source": [
    "X_train_transform = minirocket.transform(X_train)\n",
    "X_test_transform = minirocket.transform(X_test);"
   ]
  },
  {
   "cell_type": "markdown",
   "metadata": {},
   "source": [
    "### Initialize and train classifier\n",
    "\n",
    "First we can train `RidgeClassifierCV` (a Ridge classification model with cross-validation) on the transformed data"
   ]
  },
  {
   "cell_type": "code",
   "execution_count": 471,
   "metadata": {},
   "outputs": [],
   "source": [
    "classifier = RidgeClassifierCV(alphas=np.logspace(-3, 3, 10), normalize=True)\n",
    "classifier.fit(X_train_transform, y_train);\n",
    "classifier2 = RidgeClassifierCV(alphas=np.logspace(-3, 3, 10), normalize=True)\n",
    "classifier2.fit(X_train2, y_train2);"
   ]
  },
  {
   "cell_type": "markdown",
   "metadata": {},
   "source": [
    "### Initialize and train regressor\n",
    "\n",
    "Next we can train a `RidgeCV` (a Ridge regression model with cross-validation) on the transformed data"
   ]
  },
  {
   "cell_type": "code",
   "execution_count": 472,
   "metadata": {},
   "outputs": [],
   "source": [
    "regressor = RidgeCV(alphas=np.logspace(-3, 0, 10), normalize=True)\n",
    "regressor2 = RidgeCV(alphas=np.logspace(-3, 0, 10), normalize=True)\n",
    "regressor.fit(X_train_transform, y_train.astype(float));\n",
    "regressor2.fit(X_train2, y_train2.astype(float));"
   ]
  },
  {
   "cell_type": "markdown",
   "metadata": {},
   "source": [
    "## Test model\n",
    "\n",
    "### Predict the black hole spin parameter for our test data set\n",
    "\n",
    "We predict the black hole spin by taking the neural-net-transformed data `X_test_transform` and passing it to our `classifier` and `regessor` models. We then calculate the $R^2$-value of the predicted results by comparing them to the true, known values for our test set"
   ]
  },
  {
   "cell_type": "code",
   "execution_count": 546,
   "metadata": {},
   "outputs": [
    {
     "name": "stdout",
     "output_type": "stream",
     "text": [
      "$R^2$ for classification model = 0.7878681908614473\n",
      "$R^2$ for regression model = 0.9516630380769734\n"
     ]
    }
   ],
   "source": [
    "y_pred_class = classifier.predict(X_test_transform)\n",
    "y_pred_reg = regressor.predict(X_test_transform)\n",
    "print('$R^2$ for classification model = ' + str(r2_score(y_test.astype(float), y_pred_class.astype(float))))\n",
    "print('$R^2$ for regression model = ' + str(r2_score(y_test.astype(float), y_pred_reg)))"
   ]
  },
  {
   "cell_type": "markdown",
   "metadata": {},
   "source": [
    "Below we also predict the black hole spin by taking the original time series data `X_test2` and naively training our `Ridge` models on that data. We then calculate the $R^2$-value of the predicted results by comparing them to the true, known values for our test set. We see these models are much worse when compared to the models that are trained on the transformed data from the `MiniRocket` neural net."
   ]
  },
  {
   "cell_type": "code",
   "execution_count": 548,
   "metadata": {},
   "outputs": [
    {
     "name": "stdout",
     "output_type": "stream",
     "text": [
      "$R^2$ for classification model = -0.7414362630966242\n",
      "$R^2$ for regression model = -0.15918670320589223\n"
     ]
    }
   ],
   "source": [
    "y_pred_class2 = classifier2.predict(X_test2)\n",
    "y_pred_reg2 = regressor2.predict(X_test2)\n",
    "print('$R^2$ for classification model = ' + str(r2_score(y_test2.astype(float), y_pred_class2.astype(float))))\n",
    "print('$R^2$ for regression model = ' + str(r2_score(y_test2.astype(float), y_pred_reg2)))"
   ]
  },
  {
   "cell_type": "markdown",
   "metadata": {},
   "source": [
    "### Plot predicted values and true values for all test data submitted to classification model"
   ]
  },
  {
   "cell_type": "code",
   "execution_count": 549,
   "metadata": {},
   "outputs": [
    {
     "data": {
      "image/png": "[encoded data removed]",
      "text/plain": [
       "<Figure size 432x288 with 1 Axes>"
      ]
     },
     "metadata": {
      "needs_background": "light"
     },
     "output_type": "display_data"
    }
   ],
   "source": [
    "plt.plot(y_test.to_numpy().astype(float), '.', label = 'true')\n",
    "plt.plot(y_pred_class.astype(float), '+', label = 'predicted')\n",
    "plt.xlabel('test number')\n",
    "plt.ylabel('dimensionless black hole spin')\n",
    "plt.title(\"Classification model\")\n",
    "plt.show()"
   ]
  },
  {
   "cell_type": "markdown",
   "metadata": {},
   "source": [
    "### Plot predicted values and true values for all test data submitted to regression model"
   ]
  },
  {
   "cell_type": "code",
   "execution_count": 550,
   "metadata": {},
   "outputs": [
    {
     "data": {
      "image/png": "[encoded data removed]",
      "text/plain": [
       "<Figure size 432x288 with 1 Axes>"
      ]
     },
     "metadata": {
      "needs_background": "light"
     },
     "output_type": "display_data"
    }
   ],
   "source": [
    "plt.plot(y_test.to_numpy().astype(float), '.')\n",
    "plt.plot(y_pred_reg.astype(float), '+')\n",
    "plt.xlabel('test number')\n",
    "plt.ylabel('dimensionless black hole spin')\n",
    "plt.title(\"Regression model\")\n",
    "plt.show()"
   ]
  },
  {
   "cell_type": "markdown",
   "metadata": {},
   "source": [
    "### Plot predicted values vs true values from both models\n",
    "\n",
    "The line represents a perfect model in which the predicted values are equivalent to the true values. Visually comparing the predicted values of our regression model (blue dots) and those of the classification model (yellow plus signs), we see that the regression model values are more tightly clustered around the 'perfect' model values, and, therefore, on average does a better job of predicting the 'correct' black hole spin. "
   ]
  },
  {
   "cell_type": "code",
   "execution_count": 551,
   "metadata": {},
   "outputs": [
    {
     "data": {
      "image/png": "[encoded data removed]",
      "text/plain": [
       "<Figure size 432x288 with 1 Axes>"
      ]
     },
     "metadata": {
      "needs_background": "light"
     },
     "output_type": "display_data"
    }
   ],
   "source": [
    "plt.plot(y_test.to_numpy().astype(float), y_pred_reg.astype(float), '.', label = 'regression')\n",
    "plt.plot(y_test.to_numpy().astype(float), y_pred_class.astype(float), '+', label = 'classification')\n",
    "plt.plot(np.unique(np.sort(y_test.to_numpy().astype(float))), np.unique(np.sort(y_test.to_numpy().astype(float))), '-')\n",
    "plt.xlabel('true value')\n",
    "plt.ylabel('predicted value')\n",
    "plt.title('black hole spin test')\n",
    "plt.legend()\n",
    "plt.show()"
   ]
  }
 ],
 "metadata": {
  "kernelspec": {
   "display_name": "ml_sktime",
   "language": "python",
   "name": "ml_sktime"
  },
  "language_info": {
   "codemirror_mode": {
    "name": "ipython",
    "version": 3
   },
   "file_extension": ".py",
   "mimetype": "text/x-python",
   "name": "python",
   "nbconvert_exporter": "python",
   "pygments_lexer": "ipython3",
   "version": "3.8.8"
  }
 },
 "nbformat": 4,
 "nbformat_minor": 4
}
